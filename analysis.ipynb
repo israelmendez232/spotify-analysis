{
 "cells": [
  {
   "cell_type": "code",
   "execution_count": 13,
   "metadata": {},
   "outputs": [],
   "source": [
    "import pandas as pd\n",
    "import sqlite3\n",
    "import pandas_profiling\n",
    "import sweetviz as sv"
   ]
  },
  {
   "cell_type": "code",
   "execution_count": 4,
   "metadata": {},
   "outputs": [
    {
     "output_type": "execute_result",
     "data": {
      "text/plain": "  platform                       searchTime  \\\n0  ANDROID 2020-02-07 12:49:26.512000+00:00   \n1  ANDROID 2020-02-08 21:44:06.888000+00:00   \n2  ANDROID 2020-02-09 20:52:42.231000+00:00   \n3  ANDROID 2020-02-13 01:15:16.958000+00:00   \n4  ANDROID 2020-02-15 13:52:02.476000+00:00   \n\n                                      searchQuery  \\\n0                                       Moonlight   \n1                                        mc guime   \n2  My Only One (No Hay Nadie Más) Sebastián Yatra   \n3                                           idont   \n4                                        ted talk   \n\n                       searchInteractionURIs  \n0   ['spotify:track:6L4F4btXioJPhEwz6T7YYt']  \n1  ['spotify:artist:3ge4xOaKvWfhRwgx0Rldov']  \n2                                         []  \n3   ['spotify:track:41zXlQxzTi6cGAjpOXyLYH']  \n4    ['spotify:show:1VXcH8QHkjRcTCEd88U3ti']  ",
      "text/html": "<div>\n<style scoped>\n    .dataframe tbody tr th:only-of-type {\n        vertical-align: middle;\n    }\n\n    .dataframe tbody tr th {\n        vertical-align: top;\n    }\n\n    .dataframe thead th {\n        text-align: right;\n    }\n</style>\n<table border=\"1\" class=\"dataframe\">\n  <thead>\n    <tr style=\"text-align: right;\">\n      <th></th>\n      <th>platform</th>\n      <th>searchTime</th>\n      <th>searchQuery</th>\n      <th>searchInteractionURIs</th>\n    </tr>\n  </thead>\n  <tbody>\n    <tr>\n      <th>0</th>\n      <td>ANDROID</td>\n      <td>2020-02-07 12:49:26.512000+00:00</td>\n      <td>Moonlight</td>\n      <td>['spotify:track:6L4F4btXioJPhEwz6T7YYt']</td>\n    </tr>\n    <tr>\n      <th>1</th>\n      <td>ANDROID</td>\n      <td>2020-02-08 21:44:06.888000+00:00</td>\n      <td>mc guime</td>\n      <td>['spotify:artist:3ge4xOaKvWfhRwgx0Rldov']</td>\n    </tr>\n    <tr>\n      <th>2</th>\n      <td>ANDROID</td>\n      <td>2020-02-09 20:52:42.231000+00:00</td>\n      <td>My Only One (No Hay Nadie Más) Sebastián Yatra</td>\n      <td>[]</td>\n    </tr>\n    <tr>\n      <th>3</th>\n      <td>ANDROID</td>\n      <td>2020-02-13 01:15:16.958000+00:00</td>\n      <td>idont</td>\n      <td>['spotify:track:41zXlQxzTi6cGAjpOXyLYH']</td>\n    </tr>\n    <tr>\n      <th>4</th>\n      <td>ANDROID</td>\n      <td>2020-02-15 13:52:02.476000+00:00</td>\n      <td>ted talk</td>\n      <td>['spotify:show:1VXcH8QHkjRcTCEd88U3ti']</td>\n    </tr>\n  </tbody>\n</table>\n</div>"
     },
     "metadata": {},
     "execution_count": 4
    }
   ],
   "source": [
    "path_search = 'MyData/SearchQueries.json'\n",
    "df_search = pd.read_json(path_search)\n",
    "\n",
    "# Cleaning the Data\n",
    "df_search['searchTime'] = df_search['searchTime'].str[:-5]\n",
    "df_search['searchTime'] = pd.to_datetime(df_search['searchTime'], format='%Y-%m-%dT%H:%M:%S.%f', errors='coerce')\n",
    "df_search['platform'] = df_search['platform'].astype('str')\n",
    "df_search['searchQuery'] = df_search['searchQuery'].astype('str')\n",
    "df_search['searchInteractionURIs'] = df_search['searchInteractionURIs'].astype('str')\n",
    "\n",
    "df_search.head()"
   ]
  },
  {
   "cell_type": "markdown",
   "metadata": {},
   "source": [
    "Como temos três arquivos de Streaming, vou concatenar todos em um DF só."
   ]
  },
  {
   "cell_type": "code",
   "execution_count": 5,
   "metadata": {},
   "outputs": [
    {
     "output_type": "execute_result",
     "data": {
      "text/plain": "            endTime        artistName         trackName  msPlayed\n0  2019-04-28 14:19     MC L da Vinte  Parado no Bailão     25390\n1  2019-04-30 14:25  MC Kevin o Chris   Dentro do Carro     50800\n2  2019-05-01 09:54        Mc Livinho   Espelho No Teto    192947\n3  2019-05-01 09:58              UCLÃ          Pa Pa Pa    230357\n4  2019-05-01 10:03     MC L da Vinte  Parado no Bailão      5630",
      "text/html": "<div>\n<style scoped>\n    .dataframe tbody tr th:only-of-type {\n        vertical-align: middle;\n    }\n\n    .dataframe tbody tr th {\n        vertical-align: top;\n    }\n\n    .dataframe thead th {\n        text-align: right;\n    }\n</style>\n<table border=\"1\" class=\"dataframe\">\n  <thead>\n    <tr style=\"text-align: right;\">\n      <th></th>\n      <th>endTime</th>\n      <th>artistName</th>\n      <th>trackName</th>\n      <th>msPlayed</th>\n    </tr>\n  </thead>\n  <tbody>\n    <tr>\n      <th>0</th>\n      <td>2019-04-28 14:19</td>\n      <td>MC L da Vinte</td>\n      <td>Parado no Bailão</td>\n      <td>25390</td>\n    </tr>\n    <tr>\n      <th>1</th>\n      <td>2019-04-30 14:25</td>\n      <td>MC Kevin o Chris</td>\n      <td>Dentro do Carro</td>\n      <td>50800</td>\n    </tr>\n    <tr>\n      <th>2</th>\n      <td>2019-05-01 09:54</td>\n      <td>Mc Livinho</td>\n      <td>Espelho No Teto</td>\n      <td>192947</td>\n    </tr>\n    <tr>\n      <th>3</th>\n      <td>2019-05-01 09:58</td>\n      <td>UCLÃ</td>\n      <td>Pa Pa Pa</td>\n      <td>230357</td>\n    </tr>\n    <tr>\n      <th>4</th>\n      <td>2019-05-01 10:03</td>\n      <td>MC L da Vinte</td>\n      <td>Parado no Bailão</td>\n      <td>5630</td>\n    </tr>\n  </tbody>\n</table>\n</div>"
     },
     "metadata": {},
     "execution_count": 5
    }
   ],
   "source": [
    "paths_streaming = ['MyData/StreamingHistory0.json', 'MyData/StreamingHistory1.json', 'MyData/StreamingHistory2.json']\n",
    "\n",
    "df_streaming = pd.DataFrame([])\n",
    "\n",
    "for path in paths_streaming:\n",
    "    df_temp = pd.read_json(path)\n",
    "    df_streaming = pd.concat([df_streaming, df_temp])\n",
    "\n",
    "df_streaming.head()"
   ]
  },
  {
   "cell_type": "markdown",
   "metadata": {},
   "source": [
    "Salvando em um SQLite, para ficar mais fácil de ler as informações:"
   ]
  },
  {
   "cell_type": "code",
   "execution_count": 6,
   "metadata": {},
   "outputs": [],
   "source": [
    "connection = sqlite3.connect('data/database_spotify.db')\n",
    "cursor = connection.cursor()"
   ]
  },
  {
   "cell_type": "code",
   "execution_count": 7,
   "metadata": {},
   "outputs": [
    {
     "output_type": "execute_result",
     "data": {
      "text/plain": "  platform                        searchTime  \\\n0  ANDROID  2020-02-07 12:49:26.512000+00:00   \n1  ANDROID  2020-02-08 21:44:06.888000+00:00   \n2  ANDROID  2020-02-09 20:52:42.231000+00:00   \n3  ANDROID  2020-02-13 01:15:16.958000+00:00   \n4  ANDROID  2020-02-15 13:52:02.476000+00:00   \n\n                                      searchQuery  \\\n0                                       Moonlight   \n1                                        mc guime   \n2  My Only One (No Hay Nadie Más) Sebastián Yatra   \n3                                           idont   \n4                                        ted talk   \n\n                       searchInteractionURIs  \n0   ['spotify:track:6L4F4btXioJPhEwz6T7YYt']  \n1  ['spotify:artist:3ge4xOaKvWfhRwgx0Rldov']  \n2                                         []  \n3   ['spotify:track:41zXlQxzTi6cGAjpOXyLYH']  \n4    ['spotify:show:1VXcH8QHkjRcTCEd88U3ti']  ",
      "text/html": "<div>\n<style scoped>\n    .dataframe tbody tr th:only-of-type {\n        vertical-align: middle;\n    }\n\n    .dataframe tbody tr th {\n        vertical-align: top;\n    }\n\n    .dataframe thead th {\n        text-align: right;\n    }\n</style>\n<table border=\"1\" class=\"dataframe\">\n  <thead>\n    <tr style=\"text-align: right;\">\n      <th></th>\n      <th>platform</th>\n      <th>searchTime</th>\n      <th>searchQuery</th>\n      <th>searchInteractionURIs</th>\n    </tr>\n  </thead>\n  <tbody>\n    <tr>\n      <th>0</th>\n      <td>ANDROID</td>\n      <td>2020-02-07 12:49:26.512000+00:00</td>\n      <td>Moonlight</td>\n      <td>['spotify:track:6L4F4btXioJPhEwz6T7YYt']</td>\n    </tr>\n    <tr>\n      <th>1</th>\n      <td>ANDROID</td>\n      <td>2020-02-08 21:44:06.888000+00:00</td>\n      <td>mc guime</td>\n      <td>['spotify:artist:3ge4xOaKvWfhRwgx0Rldov']</td>\n    </tr>\n    <tr>\n      <th>2</th>\n      <td>ANDROID</td>\n      <td>2020-02-09 20:52:42.231000+00:00</td>\n      <td>My Only One (No Hay Nadie Más) Sebastián Yatra</td>\n      <td>[]</td>\n    </tr>\n    <tr>\n      <th>3</th>\n      <td>ANDROID</td>\n      <td>2020-02-13 01:15:16.958000+00:00</td>\n      <td>idont</td>\n      <td>['spotify:track:41zXlQxzTi6cGAjpOXyLYH']</td>\n    </tr>\n    <tr>\n      <th>4</th>\n      <td>ANDROID</td>\n      <td>2020-02-15 13:52:02.476000+00:00</td>\n      <td>ted talk</td>\n      <td>['spotify:show:1VXcH8QHkjRcTCEd88U3ti']</td>\n    </tr>\n  </tbody>\n</table>\n</div>"
     },
     "metadata": {},
     "execution_count": 7
    }
   ],
   "source": [
    "# SEARCH\n",
    "cursor.execute('DROP TABLE IF EXISTS SEARCH;')\n",
    "cursor.execute('CREATE TABLE SEARCH (platform, searchTime, searchQuery, searchInteractionURIs)')\n",
    "connection.commit()\n",
    "\n",
    "df_search.to_sql('SEARCH', connection, if_exists='replace', index=False)\n",
    "\n",
    "## testing the results\n",
    "cursor.execute('''  \n",
    "SELECT * FROM SEARCH LIMIT 10\n",
    "          ''')\n",
    "\n",
    "df_temp = pd.DataFrame(cursor.fetchall(), columns=['platform', 'searchTime', 'searchQuery', 'searchInteractionURIs'])    \n",
    "df_temp.head()"
   ]
  },
  {
   "cell_type": "code",
   "execution_count": 8,
   "metadata": {},
   "outputs": [
    {
     "output_type": "execute_result",
     "data": {
      "text/plain": "           platform        searchTime       searchQuery  searchInteractionURIs\n0  2019-04-28 14:19     MC L da Vinte  Parado no Bailão                  25390\n1  2019-04-30 14:25  MC Kevin o Chris   Dentro do Carro                  50800\n2  2019-05-01 09:54        Mc Livinho   Espelho No Teto                 192947\n3  2019-05-01 09:58              UCLÃ          Pa Pa Pa                 230357\n4  2019-05-01 10:03     MC L da Vinte  Parado no Bailão                   5630",
      "text/html": "<div>\n<style scoped>\n    .dataframe tbody tr th:only-of-type {\n        vertical-align: middle;\n    }\n\n    .dataframe tbody tr th {\n        vertical-align: top;\n    }\n\n    .dataframe thead th {\n        text-align: right;\n    }\n</style>\n<table border=\"1\" class=\"dataframe\">\n  <thead>\n    <tr style=\"text-align: right;\">\n      <th></th>\n      <th>platform</th>\n      <th>searchTime</th>\n      <th>searchQuery</th>\n      <th>searchInteractionURIs</th>\n    </tr>\n  </thead>\n  <tbody>\n    <tr>\n      <th>0</th>\n      <td>2019-04-28 14:19</td>\n      <td>MC L da Vinte</td>\n      <td>Parado no Bailão</td>\n      <td>25390</td>\n    </tr>\n    <tr>\n      <th>1</th>\n      <td>2019-04-30 14:25</td>\n      <td>MC Kevin o Chris</td>\n      <td>Dentro do Carro</td>\n      <td>50800</td>\n    </tr>\n    <tr>\n      <th>2</th>\n      <td>2019-05-01 09:54</td>\n      <td>Mc Livinho</td>\n      <td>Espelho No Teto</td>\n      <td>192947</td>\n    </tr>\n    <tr>\n      <th>3</th>\n      <td>2019-05-01 09:58</td>\n      <td>UCLÃ</td>\n      <td>Pa Pa Pa</td>\n      <td>230357</td>\n    </tr>\n    <tr>\n      <th>4</th>\n      <td>2019-05-01 10:03</td>\n      <td>MC L da Vinte</td>\n      <td>Parado no Bailão</td>\n      <td>5630</td>\n    </tr>\n  </tbody>\n</table>\n</div>"
     },
     "metadata": {},
     "execution_count": 8
    }
   ],
   "source": [
    "# STREAMING\n",
    "# cursor.execute('CREATE TABLE STREAMING (endTime, artistName, trackName, msPlayed)')\n",
    "# connection.commit()\n",
    "# df_streaming.to_sql('STREAMING', connection, if_exists='replace', index=False)\n",
    "\n",
    "## testing the results\n",
    "cursor.execute('''  \n",
    "SELECT * FROM STREAMING LIMIT 10\n",
    "          ''')\n",
    "\n",
    "df_temp = pd.DataFrame(cursor.fetchall(), columns=['platform', 'searchTime', 'searchQuery', 'searchInteractionURIs'])  \n",
    "\n",
    "df_temp.head()"
   ]
  },
  {
   "cell_type": "markdown",
   "metadata": {},
   "source": [
    "# Salvando os Dados\n",
    "\n",
    "Após limpar os dados e colocar eles disponíveis em um SQLite, segue as primeiras visualizações. Decidi usar uma biblioteca \"pronta\" de visualização de dados chamada `pandas_profiling`: ele vai reproduzir um relatório em HTML para validar os principais elementos."
   ]
  },
  {
   "cell_type": "code",
   "execution_count": 11,
   "metadata": {},
   "outputs": [
    {
     "output_type": "stream",
     "name": "stderr",
     "text": "Summarize dataset: 100%|██████████| 19/19 [00:02<00:00,  7.94it/s, Completed]\nGenerate report structure: 100%|██████████| 1/1 [00:01<00:00,  1.26s/it]\nRender HTML: 100%|██████████| 1/1 [00:00<00:00,  4.70it/s]\nExport report to file: 100%|██████████| 1/1 [00:00<00:00, 581.41it/s]\n"
    }
   ],
   "source": [
    "profile = df_streaming.profile_report(title='Streaming Spotify Report')\n",
    "profile.to_file(output_file=\"./report/streaming_spotify.html\")"
   ]
  },
  {
   "cell_type": "code",
   "execution_count": 12,
   "metadata": {},
   "outputs": [
    {
     "output_type": "stream",
     "name": "stderr",
     "text": "Summarize dataset: 100%|██████████| 18/18 [00:01<00:00, 10.67it/s, Completed]\nGenerate report structure: 100%|██████████| 1/1 [00:00<00:00,  1.38it/s]\nRender HTML: 100%|██████████| 1/1 [00:00<00:00, 11.59it/s]\nExport report to file: 100%|██████████| 1/1 [00:00<00:00, 782.23it/s]\n"
    }
   ],
   "source": [
    "profile = df_search.profile_report(title='Search Spotify Report')\n",
    "profile.to_file(output_file=\"./report/search_spotify.html\")"
   ]
  },
  {
   "cell_type": "markdown",
   "metadata": {},
   "source": [
    "# Outras Análises\n"
   ]
  }
 ],
 "metadata": {
  "language_info": {
   "codemirror_mode": {
    "name": "ipython",
    "version": 3
   },
   "file_extension": ".py",
   "mimetype": "text/x-python",
   "name": "python",
   "nbconvert_exporter": "python",
   "pygments_lexer": "ipython3",
   "version": "3.7.5-final"
  },
  "orig_nbformat": 2,
  "kernelspec": {
   "name": "python37564bite673881a59b44fd58b2c6979ab316b22",
   "display_name": "Python 3.7.5 64-bit"
  }
 },
 "nbformat": 4,
 "nbformat_minor": 2
}