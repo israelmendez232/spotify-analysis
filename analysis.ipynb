{
 "cells": [
  {
   "cell_type": "code",
   "execution_count": 3,
   "metadata": {},
   "outputs": [],
   "source": [
    "import pandas as pd\n",
    "import sqlite3"
   ]
  },
  {
   "cell_type": "code",
   "execution_count": 4,
   "metadata": {},
   "outputs": [
    {
     "output_type": "execute_result",
     "data": {
      "text/plain": "  platform                     searchTime  \\\n0  ANDROID  2020-02-07T12:49:26.512Z[UTC]   \n1  ANDROID  2020-02-08T21:44:06.888Z[UTC]   \n2  ANDROID  2020-02-09T20:52:42.231Z[UTC]   \n3  ANDROID  2020-02-13T01:15:16.958Z[UTC]   \n4  ANDROID  2020-02-15T13:52:02.476Z[UTC]   \n\n                                      searchQuery  \\\n0                                       Moonlight   \n1                                        mc guime   \n2  My Only One (No Hay Nadie Más) Sebastián Yatra   \n3                                           idont   \n4                                        ted talk   \n\n                     searchInteractionURIs  \n0   [spotify:track:6L4F4btXioJPhEwz6T7YYt]  \n1  [spotify:artist:3ge4xOaKvWfhRwgx0Rldov]  \n2                                       []  \n3   [spotify:track:41zXlQxzTi6cGAjpOXyLYH]  \n4    [spotify:show:1VXcH8QHkjRcTCEd88U3ti]  ",
      "text/html": "<div>\n<style scoped>\n    .dataframe tbody tr th:only-of-type {\n        vertical-align: middle;\n    }\n\n    .dataframe tbody tr th {\n        vertical-align: top;\n    }\n\n    .dataframe thead th {\n        text-align: right;\n    }\n</style>\n<table border=\"1\" class=\"dataframe\">\n  <thead>\n    <tr style=\"text-align: right;\">\n      <th></th>\n      <th>platform</th>\n      <th>searchTime</th>\n      <th>searchQuery</th>\n      <th>searchInteractionURIs</th>\n    </tr>\n  </thead>\n  <tbody>\n    <tr>\n      <th>0</th>\n      <td>ANDROID</td>\n      <td>2020-02-07T12:49:26.512Z[UTC]</td>\n      <td>Moonlight</td>\n      <td>[spotify:track:6L4F4btXioJPhEwz6T7YYt]</td>\n    </tr>\n    <tr>\n      <th>1</th>\n      <td>ANDROID</td>\n      <td>2020-02-08T21:44:06.888Z[UTC]</td>\n      <td>mc guime</td>\n      <td>[spotify:artist:3ge4xOaKvWfhRwgx0Rldov]</td>\n    </tr>\n    <tr>\n      <th>2</th>\n      <td>ANDROID</td>\n      <td>2020-02-09T20:52:42.231Z[UTC]</td>\n      <td>My Only One (No Hay Nadie Más) Sebastián Yatra</td>\n      <td>[]</td>\n    </tr>\n    <tr>\n      <th>3</th>\n      <td>ANDROID</td>\n      <td>2020-02-13T01:15:16.958Z[UTC]</td>\n      <td>idont</td>\n      <td>[spotify:track:41zXlQxzTi6cGAjpOXyLYH]</td>\n    </tr>\n    <tr>\n      <th>4</th>\n      <td>ANDROID</td>\n      <td>2020-02-15T13:52:02.476Z[UTC]</td>\n      <td>ted talk</td>\n      <td>[spotify:show:1VXcH8QHkjRcTCEd88U3ti]</td>\n    </tr>\n  </tbody>\n</table>\n</div>"
     },
     "metadata": {},
     "execution_count": 4
    }
   ],
   "source": [
    "path_search = 'MyData/SearchQueries.json'\n",
    "df_search = pd.read_json(path_search)\n",
    "df_search.head()"
   ]
  },
  {
   "cell_type": "markdown",
   "metadata": {},
   "source": [
    "Como temos três arquivos de Streaming, vou concatenar todos em um DF só."
   ]
  },
  {
   "cell_type": "code",
   "execution_count": 5,
   "metadata": {},
   "outputs": [
    {
     "output_type": "execute_result",
     "data": {
      "text/plain": "            endTime        artistName         trackName  msPlayed\n0  2019-04-28 14:19     MC L da Vinte  Parado no Bailão     25390\n1  2019-04-30 14:25  MC Kevin o Chris   Dentro do Carro     50800\n2  2019-05-01 09:54        Mc Livinho   Espelho No Teto    192947\n3  2019-05-01 09:58              UCLÃ          Pa Pa Pa    230357\n4  2019-05-01 10:03     MC L da Vinte  Parado no Bailão      5630",
      "text/html": "<div>\n<style scoped>\n    .dataframe tbody tr th:only-of-type {\n        vertical-align: middle;\n    }\n\n    .dataframe tbody tr th {\n        vertical-align: top;\n    }\n\n    .dataframe thead th {\n        text-align: right;\n    }\n</style>\n<table border=\"1\" class=\"dataframe\">\n  <thead>\n    <tr style=\"text-align: right;\">\n      <th></th>\n      <th>endTime</th>\n      <th>artistName</th>\n      <th>trackName</th>\n      <th>msPlayed</th>\n    </tr>\n  </thead>\n  <tbody>\n    <tr>\n      <th>0</th>\n      <td>2019-04-28 14:19</td>\n      <td>MC L da Vinte</td>\n      <td>Parado no Bailão</td>\n      <td>25390</td>\n    </tr>\n    <tr>\n      <th>1</th>\n      <td>2019-04-30 14:25</td>\n      <td>MC Kevin o Chris</td>\n      <td>Dentro do Carro</td>\n      <td>50800</td>\n    </tr>\n    <tr>\n      <th>2</th>\n      <td>2019-05-01 09:54</td>\n      <td>Mc Livinho</td>\n      <td>Espelho No Teto</td>\n      <td>192947</td>\n    </tr>\n    <tr>\n      <th>3</th>\n      <td>2019-05-01 09:58</td>\n      <td>UCLÃ</td>\n      <td>Pa Pa Pa</td>\n      <td>230357</td>\n    </tr>\n    <tr>\n      <th>4</th>\n      <td>2019-05-01 10:03</td>\n      <td>MC L da Vinte</td>\n      <td>Parado no Bailão</td>\n      <td>5630</td>\n    </tr>\n  </tbody>\n</table>\n</div>"
     },
     "metadata": {},
     "execution_count": 5
    }
   ],
   "source": [
    "paths_streaming = ['MyData/StreamingHistory0.json', 'MyData/StreamingHistory1.json', 'MyData/StreamingHistory2.json']\n",
    "\n",
    "df_streaming = pd.DataFrame([])\n",
    "\n",
    "for path in paths_streaming:\n",
    "    df_temp = pd.read_json(path)\n",
    "    df_streaming = pd.concat([df_streaming, df_temp])\n",
    "\n",
    "df_streaming.head()"
   ]
  },
  {
   "cell_type": "markdown",
   "metadata": {},
   "source": [
    "Salvando em um SQLite, para ficar mais fácil de ler as informações:"
   ]
  },
  {
   "cell_type": "code",
   "execution_count": 6,
   "metadata": {},
   "outputs": [],
   "source": [
    "connection = sqlite3.connect('data/database_spotify.db')\n",
    "cursor = connection.cursor()"
   ]
  },
  {
   "cell_type": "code",
   "execution_count": 16,
   "metadata": {},
   "outputs": [
    {
     "output_type": "error",
     "ename": "InterfaceError",
     "evalue": "Error binding parameter 3 - probably unsupported type.",
     "traceback": [
      "\u001b[0;31m---------------------------------------------------------------------------\u001b[0m",
      "\u001b[0;31mInterfaceError\u001b[0m                            Traceback (most recent call last)",
      "\u001b[0;32m<ipython-input-16-38ec1c079066>\u001b[0m in \u001b[0;36m<module>\u001b[0;34m\u001b[0m\n\u001b[1;32m      3\u001b[0m \u001b[0mconnection\u001b[0m\u001b[0;34m.\u001b[0m\u001b[0mcommit\u001b[0m\u001b[0;34m(\u001b[0m\u001b[0;34m)\u001b[0m\u001b[0;34m\u001b[0m\u001b[0;34m\u001b[0m\u001b[0m\n\u001b[1;32m      4\u001b[0m \u001b[0;34m\u001b[0m\u001b[0m\n\u001b[0;32m----> 5\u001b[0;31m \u001b[0mdf_search\u001b[0m\u001b[0;34m.\u001b[0m\u001b[0mto_sql\u001b[0m\u001b[0;34m(\u001b[0m\u001b[0;34m'SEARCH'\u001b[0m\u001b[0;34m,\u001b[0m \u001b[0mconnection\u001b[0m\u001b[0;34m,\u001b[0m \u001b[0mif_exists\u001b[0m\u001b[0;34m=\u001b[0m\u001b[0;34m'replace'\u001b[0m\u001b[0;34m,\u001b[0m \u001b[0mindex\u001b[0m\u001b[0;34m=\u001b[0m\u001b[0;32mFalse\u001b[0m\u001b[0;34m)\u001b[0m\u001b[0;34m\u001b[0m\u001b[0;34m\u001b[0m\u001b[0m\n\u001b[0m\u001b[1;32m      6\u001b[0m \u001b[0;34m\u001b[0m\u001b[0m\n\u001b[1;32m      7\u001b[0m \u001b[0;31m## testing the results\u001b[0m\u001b[0;34m\u001b[0m\u001b[0;34m\u001b[0m\u001b[0;34m\u001b[0m\u001b[0m\n",
      "\u001b[0;32m/usr/local/lib/python3.7/dist-packages/pandas/core/generic.py\u001b[0m in \u001b[0;36mto_sql\u001b[0;34m(self, name, con, schema, if_exists, index, index_label, chunksize, dtype, method)\u001b[0m\n\u001b[1;32m   2710\u001b[0m             \u001b[0mchunksize\u001b[0m\u001b[0;34m=\u001b[0m\u001b[0mchunksize\u001b[0m\u001b[0;34m,\u001b[0m\u001b[0;34m\u001b[0m\u001b[0;34m\u001b[0m\u001b[0m\n\u001b[1;32m   2711\u001b[0m             \u001b[0mdtype\u001b[0m\u001b[0;34m=\u001b[0m\u001b[0mdtype\u001b[0m\u001b[0;34m,\u001b[0m\u001b[0;34m\u001b[0m\u001b[0;34m\u001b[0m\u001b[0m\n\u001b[0;32m-> 2712\u001b[0;31m             \u001b[0mmethod\u001b[0m\u001b[0;34m=\u001b[0m\u001b[0mmethod\u001b[0m\u001b[0;34m,\u001b[0m\u001b[0;34m\u001b[0m\u001b[0;34m\u001b[0m\u001b[0m\n\u001b[0m\u001b[1;32m   2713\u001b[0m         )\n\u001b[1;32m   2714\u001b[0m \u001b[0;34m\u001b[0m\u001b[0m\n",
      "\u001b[0;32m/usr/local/lib/python3.7/dist-packages/pandas/io/sql.py\u001b[0m in \u001b[0;36mto_sql\u001b[0;34m(frame, name, con, schema, if_exists, index, index_label, chunksize, dtype, method)\u001b[0m\n\u001b[1;32m    516\u001b[0m         \u001b[0mchunksize\u001b[0m\u001b[0;34m=\u001b[0m\u001b[0mchunksize\u001b[0m\u001b[0;34m,\u001b[0m\u001b[0;34m\u001b[0m\u001b[0;34m\u001b[0m\u001b[0m\n\u001b[1;32m    517\u001b[0m         \u001b[0mdtype\u001b[0m\u001b[0;34m=\u001b[0m\u001b[0mdtype\u001b[0m\u001b[0;34m,\u001b[0m\u001b[0;34m\u001b[0m\u001b[0;34m\u001b[0m\u001b[0m\n\u001b[0;32m--> 518\u001b[0;31m         \u001b[0mmethod\u001b[0m\u001b[0;34m=\u001b[0m\u001b[0mmethod\u001b[0m\u001b[0;34m,\u001b[0m\u001b[0;34m\u001b[0m\u001b[0;34m\u001b[0m\u001b[0m\n\u001b[0m\u001b[1;32m    519\u001b[0m     )\n\u001b[1;32m    520\u001b[0m \u001b[0;34m\u001b[0m\u001b[0m\n",
      "\u001b[0;32m/usr/local/lib/python3.7/dist-packages/pandas/io/sql.py\u001b[0m in \u001b[0;36mto_sql\u001b[0;34m(self, frame, name, if_exists, index, index_label, schema, chunksize, dtype, method)\u001b[0m\n\u001b[1;32m   1748\u001b[0m         )\n\u001b[1;32m   1749\u001b[0m         \u001b[0mtable\u001b[0m\u001b[0;34m.\u001b[0m\u001b[0mcreate\u001b[0m\u001b[0;34m(\u001b[0m\u001b[0;34m)\u001b[0m\u001b[0;34m\u001b[0m\u001b[0;34m\u001b[0m\u001b[0m\n\u001b[0;32m-> 1750\u001b[0;31m         \u001b[0mtable\u001b[0m\u001b[0;34m.\u001b[0m\u001b[0minsert\u001b[0m\u001b[0;34m(\u001b[0m\u001b[0mchunksize\u001b[0m\u001b[0;34m,\u001b[0m \u001b[0mmethod\u001b[0m\u001b[0;34m)\u001b[0m\u001b[0;34m\u001b[0m\u001b[0;34m\u001b[0m\u001b[0m\n\u001b[0m\u001b[1;32m   1751\u001b[0m \u001b[0;34m\u001b[0m\u001b[0m\n\u001b[1;32m   1752\u001b[0m     \u001b[0;32mdef\u001b[0m \u001b[0mhas_table\u001b[0m\u001b[0;34m(\u001b[0m\u001b[0mself\u001b[0m\u001b[0;34m,\u001b[0m \u001b[0mname\u001b[0m\u001b[0;34m,\u001b[0m \u001b[0mschema\u001b[0m\u001b[0;34m=\u001b[0m\u001b[0;32mNone\u001b[0m\u001b[0;34m)\u001b[0m\u001b[0;34m:\u001b[0m\u001b[0;34m\u001b[0m\u001b[0;34m\u001b[0m\u001b[0m\n",
      "\u001b[0;32m/usr/local/lib/python3.7/dist-packages/pandas/io/sql.py\u001b[0m in \u001b[0;36minsert\u001b[0;34m(self, chunksize, method)\u001b[0m\n\u001b[1;32m    754\u001b[0m \u001b[0;34m\u001b[0m\u001b[0m\n\u001b[1;32m    755\u001b[0m                 \u001b[0mchunk_iter\u001b[0m \u001b[0;34m=\u001b[0m \u001b[0mzip\u001b[0m\u001b[0;34m(\u001b[0m\u001b[0;34m*\u001b[0m\u001b[0;34m[\u001b[0m\u001b[0marr\u001b[0m\u001b[0;34m[\u001b[0m\u001b[0mstart_i\u001b[0m\u001b[0;34m:\u001b[0m\u001b[0mend_i\u001b[0m\u001b[0;34m]\u001b[0m \u001b[0;32mfor\u001b[0m \u001b[0marr\u001b[0m \u001b[0;32min\u001b[0m \u001b[0mdata_list\u001b[0m\u001b[0;34m]\u001b[0m\u001b[0;34m)\u001b[0m\u001b[0;34m\u001b[0m\u001b[0;34m\u001b[0m\u001b[0m\n\u001b[0;32m--> 756\u001b[0;31m                 \u001b[0mexec_insert\u001b[0m\u001b[0;34m(\u001b[0m\u001b[0mconn\u001b[0m\u001b[0;34m,\u001b[0m \u001b[0mkeys\u001b[0m\u001b[0;34m,\u001b[0m \u001b[0mchunk_iter\u001b[0m\u001b[0;34m)\u001b[0m\u001b[0;34m\u001b[0m\u001b[0;34m\u001b[0m\u001b[0m\n\u001b[0m\u001b[1;32m    757\u001b[0m \u001b[0;34m\u001b[0m\u001b[0m\n\u001b[1;32m    758\u001b[0m     def _query_iterator(\n",
      "\u001b[0;32m/usr/local/lib/python3.7/dist-packages/pandas/io/sql.py\u001b[0m in \u001b[0;36m_execute_insert\u001b[0;34m(self, conn, keys, data_iter)\u001b[0m\n\u001b[1;32m   1466\u001b[0m     \u001b[0;32mdef\u001b[0m \u001b[0m_execute_insert\u001b[0m\u001b[0;34m(\u001b[0m\u001b[0mself\u001b[0m\u001b[0;34m,\u001b[0m \u001b[0mconn\u001b[0m\u001b[0;34m,\u001b[0m \u001b[0mkeys\u001b[0m\u001b[0;34m,\u001b[0m \u001b[0mdata_iter\u001b[0m\u001b[0;34m)\u001b[0m\u001b[0;34m:\u001b[0m\u001b[0;34m\u001b[0m\u001b[0;34m\u001b[0m\u001b[0m\n\u001b[1;32m   1467\u001b[0m         \u001b[0mdata_list\u001b[0m \u001b[0;34m=\u001b[0m \u001b[0mlist\u001b[0m\u001b[0;34m(\u001b[0m\u001b[0mdata_iter\u001b[0m\u001b[0;34m)\u001b[0m\u001b[0;34m\u001b[0m\u001b[0;34m\u001b[0m\u001b[0m\n\u001b[0;32m-> 1468\u001b[0;31m         \u001b[0mconn\u001b[0m\u001b[0;34m.\u001b[0m\u001b[0mexecutemany\u001b[0m\u001b[0;34m(\u001b[0m\u001b[0mself\u001b[0m\u001b[0;34m.\u001b[0m\u001b[0minsert_statement\u001b[0m\u001b[0;34m(\u001b[0m\u001b[0;34m)\u001b[0m\u001b[0;34m,\u001b[0m \u001b[0mdata_list\u001b[0m\u001b[0;34m)\u001b[0m\u001b[0;34m\u001b[0m\u001b[0;34m\u001b[0m\u001b[0m\n\u001b[0m\u001b[1;32m   1469\u001b[0m \u001b[0;34m\u001b[0m\u001b[0m\n\u001b[1;32m   1470\u001b[0m     \u001b[0;32mdef\u001b[0m \u001b[0m_create_table_setup\u001b[0m\u001b[0;34m(\u001b[0m\u001b[0mself\u001b[0m\u001b[0;34m)\u001b[0m\u001b[0;34m:\u001b[0m\u001b[0;34m\u001b[0m\u001b[0;34m\u001b[0m\u001b[0m\n",
      "\u001b[0;31mInterfaceError\u001b[0m: Error binding parameter 3 - probably unsupported type."
     ]
    }
   ],
   "source": [
    "# SEARCH\n",
    "cursor.execute('CREATE TABLE SEARCH (platform, searchTime, searchQuery, searchInteractionURIs)')\n",
    "connection.commit()\n",
    "\n",
    "df_search.to_sql('SEARCH', connection, if_exists='replace', index=False)\n",
    "\n",
    "## testing the results\n",
    "cursor.execute('''  \n",
    "SELECT * FROM SEARCH LIMIT 10\n",
    "          ''')\n",
    "\n",
    "df_temp = DataFrame(cursor.fetchall(), columns=['platform', 'searchTime', 'searchQuery', 'searchInteractionURIs'])    \n",
    "print(df_temp)"
   ]
  },
  {
   "cell_type": "code",
   "execution_count": 7,
   "metadata": {},
   "outputs": [
    {
     "output_type": "execute_result",
     "data": {
      "text/plain": "           platform        searchTime       searchQuery  searchInteractionURIs\n0  2019-04-28 14:19     MC L da Vinte  Parado no Bailão                  25390\n1  2019-04-30 14:25  MC Kevin o Chris   Dentro do Carro                  50800\n2  2019-05-01 09:54        Mc Livinho   Espelho No Teto                 192947\n3  2019-05-01 09:58              UCLÃ          Pa Pa Pa                 230357\n4  2019-05-01 10:03     MC L da Vinte  Parado no Bailão                   5630",
      "text/html": "<div>\n<style scoped>\n    .dataframe tbody tr th:only-of-type {\n        vertical-align: middle;\n    }\n\n    .dataframe tbody tr th {\n        vertical-align: top;\n    }\n\n    .dataframe thead th {\n        text-align: right;\n    }\n</style>\n<table border=\"1\" class=\"dataframe\">\n  <thead>\n    <tr style=\"text-align: right;\">\n      <th></th>\n      <th>platform</th>\n      <th>searchTime</th>\n      <th>searchQuery</th>\n      <th>searchInteractionURIs</th>\n    </tr>\n  </thead>\n  <tbody>\n    <tr>\n      <th>0</th>\n      <td>2019-04-28 14:19</td>\n      <td>MC L da Vinte</td>\n      <td>Parado no Bailão</td>\n      <td>25390</td>\n    </tr>\n    <tr>\n      <th>1</th>\n      <td>2019-04-30 14:25</td>\n      <td>MC Kevin o Chris</td>\n      <td>Dentro do Carro</td>\n      <td>50800</td>\n    </tr>\n    <tr>\n      <th>2</th>\n      <td>2019-05-01 09:54</td>\n      <td>Mc Livinho</td>\n      <td>Espelho No Teto</td>\n      <td>192947</td>\n    </tr>\n    <tr>\n      <th>3</th>\n      <td>2019-05-01 09:58</td>\n      <td>UCLÃ</td>\n      <td>Pa Pa Pa</td>\n      <td>230357</td>\n    </tr>\n    <tr>\n      <th>4</th>\n      <td>2019-05-01 10:03</td>\n      <td>MC L da Vinte</td>\n      <td>Parado no Bailão</td>\n      <td>5630</td>\n    </tr>\n  </tbody>\n</table>\n</div>"
     },
     "metadata": {},
     "execution_count": 7
    }
   ],
   "source": [
    "# STREAMING\n",
    "# cursor.execute('CREATE TABLE STREAMING (endTime, artistName, trackName, msPlayed)')\n",
    "# connection.commit()\n",
    "# df_streaming.to_sql('STREAMING', connection, if_exists='replace', index=False)\n",
    "\n",
    "## testing the results\n",
    "cursor.execute('''  \n",
    "SELECT * FROM STREAMING LIMIT 10\n",
    "          ''')\n",
    "\n",
    "df_temp = pd.DataFrame(cursor.fetchall(), columns=['platform', 'searchTime', 'searchQuery', 'searchInteractionURIs'])  \n",
    "\n",
    "df_temp.head()"
   ]
  },
  {
   "cell_type": "code",
   "execution_count": null,
   "metadata": {},
   "outputs": [],
   "source": []
  }
 ],
 "metadata": {
  "language_info": {
   "codemirror_mode": {
    "name": "ipython",
    "version": 3
   },
   "file_extension": ".py",
   "mimetype": "text/x-python",
   "name": "python",
   "nbconvert_exporter": "python",
   "pygments_lexer": "ipython3",
   "version": "3.7.5-final"
  },
  "orig_nbformat": 2,
  "kernelspec": {
   "name": "python37564bite673881a59b44fd58b2c6979ab316b22",
   "display_name": "Python 3.7.5 64-bit"
  }
 },
 "nbformat": 4,
 "nbformat_minor": 2
}